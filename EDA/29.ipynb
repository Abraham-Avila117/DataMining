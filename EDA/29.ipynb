{
 "cells": [
  {
   "cell_type": "code",
   "execution_count": 2,
   "metadata": {},
   "outputs": [],
   "source": [
    "import pandas as pd\n",
    "import numpy as np\n",
    "import matplotlib.pyplot as plt\n",
    "import seaborn as sns"
   ]
  },
  {
   "cell_type": "code",
   "execution_count": 3,
   "metadata": {},
   "outputs": [
    {
     "name": "stdout",
     "output_type": "stream",
     "text": [
      "  State  Account LengthChurn  Area CodeChurn     Phone Int'l Plan VMail Plan  \\\n",
      "0    KS                  128             415  382-4657         no        yes   \n",
      "1    OH                  107             415  371-7191         no        yes   \n",
      "2    NJ                  137             415  358-1921         no         no   \n",
      "3    OH                   84             408  375-9999        yes         no   \n",
      "4    OK                   75             415  330-6626        yes         no   \n",
      "\n",
      "   VMail MessageChurn  Day MinsChurn  Day CallsChurn  Day ChargeChurn  ...  \\\n",
      "0                  25          265.1             110            45.07  ...   \n",
      "1                  26          161.6             123            27.47  ...   \n",
      "2                   0          243.4             114            41.38  ...   \n",
      "3                   0          299.4              71            50.90  ...   \n",
      "4                   0          166.7             113            28.34  ...   \n",
      "\n",
      "   Eve CallsChurn  Eve ChargeChurn  Night Mins  Night CallsChurn  \\\n",
      "0              99            16.78       244.7                91   \n",
      "1             103            16.62       254.4               103   \n",
      "2             110            10.30       162.6               104   \n",
      "3              88             5.26       196.9                89   \n",
      "4             122            12.61       186.9               121   \n",
      "\n",
      "   Night ChargeChurn  Intl MinsChurn  Intl CallsChurn  Intl ChargeChurn  \\\n",
      "0              11.01            10.0                3              2.70   \n",
      "1              11.45            13.7                3              3.70   \n",
      "2               7.32            12.2                5              3.29   \n",
      "3               8.86             6.6                7              1.78   \n",
      "4               8.41            10.1                3              2.73   \n",
      "\n",
      "   CustServ CallsChurn  Churn?  \n",
      "0                    1  False.  \n",
      "1                    1  False.  \n",
      "2                    0  False.  \n",
      "3                    2  False.  \n",
      "4                    3  False.  \n",
      "\n",
      "[5 rows x 21 columns]\n",
      "+-----------------------------------------------------------------------------+\n",
      "   age         workclass  fnlwgt: education:  education-num:  \\\n",
      "0   39         State-gov    77516  Bachelors              13   \n",
      "1   50  Self-emp-not-inc    83311  Bachelors              13   \n",
      "2   38           Private   215646    HS-grad               9   \n",
      "3   53           Private   234721       11th               7   \n",
      "4   28           Private   338409  Bachelors              13   \n",
      "\n",
      "      marital-status:        occupation:  relationship:  race:    sex:  \\\n",
      "0       Never-married       Adm-clerical  Not-in-family  White    Male   \n",
      "1  Married-civ-spouse    Exec-managerial        Husband  White    Male   \n",
      "2            Divorced  Handlers-cleaners  Not-in-family  White    Male   \n",
      "3  Married-civ-spouse  Handlers-cleaners        Husband  Black    Male   \n",
      "4  Married-civ-spouse     Prof-specialty           Wife  Black  Female   \n",
      "\n",
      "   capital-gain:  capital-loss:  hours-per-week: native-country:  class  \n",
      "0           2174              0               40   United-States  <=50K  \n",
      "1              0              0               13   United-States  <=50K  \n",
      "2              0              0               40   United-States  <=50K  \n",
      "3              0              0               40   United-States  <=50K  \n",
      "4              0              0               40            Cuba  <=50K  \n"
     ]
    }
   ],
   "source": [
    "#Get csv data and print the heads of each csv-file\n",
    "\n",
    "churn_path = \"../CSV/churn.csv\"\n",
    "adult_path = \"../CSV/adults.csv\"\n",
    "\n",
    "churn_data = pd.read_csv(churn_path)\n",
    "adult_data = pd.read_csv(adult_path)\n",
    "\n",
    "print(churn_data.head())\n",
    "print(\"+-----------------------------------------------------------------------------+\")\n",
    "print(adult_data.head())"
   ]
  },
  {
   "cell_type": "code",
   "execution_count": 4,
   "metadata": {},
   "outputs": [
    {
     "name": "stdout",
     "output_type": "stream",
     "text": [
      "Index(['age', 'fnlwgt:', 'education-num:', 'capital-gain:', 'capital-loss:',\n",
      "       'hours-per-week:'],\n",
      "      dtype='object')\n"
     ]
    }
   ],
   "source": [
    "# exclude any data that does not contain numerical data, then print the columns\n",
    "num_var = adult_data.select_dtypes(exclude=['object']).columns\n",
    "print(num_var)\n"
   ]
  },
  {
   "cell_type": "code",
   "execution_count": 5,
   "metadata": {},
   "outputs": [
    {
     "name": "stdout",
     "output_type": "stream",
     "text": [
      "age: mean = 38.58164675532078\n",
      "age: median = 37.0\n",
      "age: mode \n",
      "0    36\n",
      "Name: age, dtype: int64\n",
      "age: minimum = 17\n",
      "age: maximum = 90\n",
      "age: std = 13.640432553581146\n",
      "+---------------------------------------------------+\n",
      "fnlwgt:: mean = 189778.36651208502\n",
      "fnlwgt:: median = 178356.0\n",
      "fnlwgt:: mode \n",
      "0    123011\n",
      "1    164190\n",
      "2    203488\n",
      "Name: fnlwgt:, dtype: int64\n",
      "fnlwgt:: minimum = 12285\n",
      "fnlwgt:: maximum = 1484705\n",
      "fnlwgt:: std = 105549.97769702233\n",
      "+---------------------------------------------------+\n",
      "education-num:: mean = 10.0806793403151\n",
      "education-num:: median = 10.0\n",
      "education-num:: mode \n",
      "0    9\n",
      "Name: education-num:, dtype: int64\n",
      "education-num:: minimum = 1\n",
      "education-num:: maximum = 16\n",
      "education-num:: std = 2.5727203320673406\n",
      "+---------------------------------------------------+\n",
      "capital-gain:: mean = 1077.6488437087312\n",
      "capital-gain:: median = 0.0\n",
      "capital-gain:: mode \n",
      "0    0\n",
      "Name: capital-gain:, dtype: int64\n",
      "capital-gain:: minimum = 0\n",
      "capital-gain:: maximum = 99999\n",
      "capital-gain:: std = 7385.292084839299\n",
      "+---------------------------------------------------+\n",
      "capital-loss:: mean = 87.303829734959\n",
      "capital-loss:: median = 0.0\n",
      "capital-loss:: mode \n",
      "0    0\n",
      "Name: capital-loss:, dtype: int64\n",
      "capital-loss:: minimum = 0\n",
      "capital-loss:: maximum = 4356\n",
      "capital-loss:: std = 402.960218649059\n",
      "+---------------------------------------------------+\n",
      "hours-per-week:: mean = 40.437455852092995\n",
      "hours-per-week:: median = 40.0\n",
      "hours-per-week:: mode \n",
      "0    40\n",
      "Name: hours-per-week:, dtype: int64\n",
      "hours-per-week:: minimum = 1\n",
      "hours-per-week:: maximum = 99\n",
      "hours-per-week:: std = 12.34742868173081\n",
      "+---------------------------------------------------+\n"
     ]
    }
   ],
   "source": [
    "# Calculate each Column's mean, median, mode, minimum, maximum, and standard deviation\n",
    "\n",
    "for var in num_var:\n",
    "    # mean \n",
    "    print(f\"{var}: mean = {adult_data[var].mean()}\")\n",
    "\n",
    "    # median \n",
    "    print(f\"{var}: median = {adult_data[var].median()}\")\n",
    "\n",
    "    # mode \n",
    "    print(f\"{var}: mode \\n{adult_data[var].mode()}\")\n",
    "\n",
    "    # minimum\n",
    "    print(f\"{var}: minimum = {adult_data[var].min()}\")\n",
    "\n",
    "    # maximum \n",
    "    print(f\"{var}: maximum = {adult_data[var].max()}\")\n",
    "\n",
    "    # standard deviation\n",
    "    print(f\"{var}: std = {adult_data[var].std()}\")\n",
    "    print(\"+---------------------------------------------------+\")\n",
    "\n",
    "    # print(n)"
   ]
  },
  {
   "cell_type": "code",
   "execution_count": null,
   "metadata": {},
   "outputs": [],
   "source": []
  }
 ],
 "metadata": {
  "kernelspec": {
   "display_name": "DataMining",
   "language": "python",
   "name": "python3"
  },
  "language_info": {
   "codemirror_mode": {
    "name": "ipython",
    "version": 3
   },
   "file_extension": ".py",
   "mimetype": "text/x-python",
   "name": "python",
   "nbconvert_exporter": "python",
   "pygments_lexer": "ipython3",
   "version": "3.10.12"
  },
  "orig_nbformat": 4
 },
 "nbformat": 4,
 "nbformat_minor": 2
}
